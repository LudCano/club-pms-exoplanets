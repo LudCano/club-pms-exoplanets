{
  "cells": [
    {
      "cell_type": "markdown",
      "metadata": {
        "id": "2quv5d_lYd3U"
      },
      "source": [
        "# Laboratorio Práctico: Tránsito de exoplanetas\n",
        "#### Editado y traducido Ludving Cano  (<lcanof@fcpn.edu.bo>)\n",
        "Notas basadas en el curso de exoplanetas por Y. Gómez en ISYA 2023\n",
        "\n",
        "\n",
        "Modelaremos las curvas de exoplanetas, nos enfocaremos en cómo los parámetros físicos de un exoplaneta influyen en esta curva de luz.\n",
        "\n"
      ]
    },
    {
      "cell_type": "markdown",
      "metadata": {
        "id": "bxG8br-yYd3b"
      },
      "source": [
        "###  Needed libraries and packages\n",
        "###  Librerías necesarias y paquetes\n",
        "\n",
        "Usaremos batman [batman](https://lkreidberg.github.io/batman/docs/html/index.html)\n",
        "para crear el modelo de la curva de luz\n",
        "\n",
        "Respecto a la convención de unidades, usaremos la resolución de IAU en 2015. [(Prsa et al. 2016)](https://ui.adsabs.harvard.edu/abs/2016AJ....152...41P/abstract)"
      ]
    },
    {
      "cell_type": "code",
      "execution_count": 21,
      "metadata": {
        "colab": {
          "base_uri": "https://localhost:8080/"
        },
        "id": "2kUAGbZAYd3c",
        "outputId": "140b1a77-e7c8-44cc-8886-66f68ddd0953"
      },
      "outputs": [
        {
          "output_type": "stream",
          "name": "stdout",
          "text": [
            "Requirement already satisfied: batman-package in /usr/local/lib/python3.10/dist-packages (2.4.9)\n",
            "Requirement already satisfied: numpy in /usr/local/lib/python3.10/dist-packages (from batman-package) (1.23.5)\n"
          ]
        }
      ],
      "source": [
        "import numpy as np\n",
        "import matplotlib.pyplot as plt\n",
        "%pip install batman-package\n",
        "import batman                                   # transit model\n",
        "from astropy.constants import iau2015 as const  # astronomical constants"
      ]
    },
    {
      "cell_type": "markdown",
      "metadata": {
        "id": "9MKPAk6mYd3e"
      },
      "source": [
        "### Creando el modelo `exoplanet` en batman\n",
        "(1) Empezaremos creando el modelo que contiene los parámetros físicos (de la estrella y el planeta) que vamos a modelar. Y lo almacenaremos en la variable `exoplanet`.\n",
        "\n",
        "Los valores para este ejemplo son del exoplaneta [HD 209458 b](http://exoplanet.eu/catalog/hd_209458_b/), que fue el primer exoplaneta en ser medido por su curva de luz ([Charbonneau et al 2000](https://ui.adsabs.harvard.edu/abs/2000ApJ...529L..45C/abstract))."
      ]
    },
    {
      "cell_type": "code",
      "source": [
        "## SI ESTÁN USANDO SU NUBE DE GOOGLE DRIVE, CORRER ESTA CELDA Y DARLE ACCESO\n",
        "from google.colab import drive\n",
        "drive.mount('/content/drive')"
      ],
      "metadata": {
        "colab": {
          "base_uri": "https://localhost:8080/"
        },
        "id": "8K8b6FSWZRKF",
        "outputId": "1e5dca3d-4caf-445c-86cb-b1e3eacfb498"
      },
      "execution_count": 22,
      "outputs": [
        {
          "output_type": "stream",
          "name": "stdout",
          "text": [
            "Drive already mounted at /content/drive; to attempt to forcibly remount, call drive.mount(\"/content/drive\", force_remount=True).\n"
          ]
        }
      ]
    },
    {
      "cell_type": "code",
      "source": [
        "## ADEMÁS, COLOCAR AQUÍ LA RUTA DONDE QUIEREN QUE SE GUARDE TODO\n",
        "route = '/content/drive/MyDrive/PROJ2023/astroclub/2_2023/lectures/exoplanets_lab'"
      ],
      "metadata": {
        "id": "b4vnvkeEZcIm"
      },
      "execution_count": 23,
      "outputs": []
    },
    {
      "cell_type": "code",
      "execution_count": 24,
      "metadata": {
        "id": "S_8MUj8SYd3f"
      },
      "outputs": [],
      "source": [
        "exoplanet = batman.TransitParams()"
      ]
    },
    {
      "cell_type": "markdown",
      "metadata": {
        "id": "KJK6ITvtYd3f"
      },
      "source": [
        "(2) Establecemos los parámetros que no cambiaremos en todo este laboratorio en el exoplaneta exoplanet. Se mantendrán fijos a lo largo de este ejemplo."
      ]
    },
    {
      "cell_type": "code",
      "execution_count": 25,
      "metadata": {
        "id": "HFlKNGSOYd3f"
      },
      "outputs": [],
      "source": [
        "exoplanet.limb_dark = \"nonlinear\"        #  stellar limb-darkening coefficients\n",
        "exoplanet.u = [0.5, 0.1, 0.1, -0.1]"
      ]
    },
    {
      "cell_type": "markdown",
      "metadata": {
        "id": "n9EriT95Yd3g"
      },
      "source": [
        "(3) Establecemos el **tiempo medio de tránsito** en exoplanet, lo que significa el momento (en unidades de días julianos) en el cual ocurre la mitad del tránsito."
      ]
    },
    {
      "cell_type": "code",
      "execution_count": 26,
      "metadata": {
        "id": "ckKGH17AYd3g"
      },
      "outputs": [],
      "source": [
        "exoplanet.t0 =  2453344.76824            # time of mid-transit (tiempo medio de tránsito) (julian days)"
      ]
    },
    {
      "cell_type": "markdown",
      "metadata": {
        "id": "Z35CydC0Yd3h"
      },
      "source": [
        "(4) Establecemos el **período orbital** en exoplanet, que es el tiempo que el exoplaneta tarda en orbitar su estrella o el tiempo entre tránsitos consecutivos. Las unidades del período orbital son días."
      ]
    },
    {
      "cell_type": "code",
      "execution_count": 27,
      "metadata": {
        "id": "LC9yvo_iYd3h"
      },
      "outputs": [],
      "source": [
        "exoplanet.per = 3.52472                  # orbital period (days)"
      ]
    },
    {
      "cell_type": "markdown",
      "metadata": {
        "id": "lvi96k9uYd3h"
      },
      "source": [
        "(5) Establecemos el **ángulo de inclinación** de la órbita planetaria con respecto a la línea de visión."
      ]
    },
    {
      "cell_type": "code",
      "execution_count": 28,
      "metadata": {
        "id": "fnEelf3XYd3i"
      },
      "outputs": [],
      "source": [
        "exoplanet.inc = 86.59              # orbital inclination (degrees)"
      ]
    },
    {
      "cell_type": "markdown",
      "metadata": {
        "id": "kNFjH8sTYd3i"
      },
      "source": [
        "(6) Establecemos en exoplanet la **excentricidad** y **orientación orbital** del planeta (a través del ángulo de periastron)."
      ]
    },
    {
      "cell_type": "code",
      "execution_count": 29,
      "metadata": {
        "id": "lR-gzDSqYd3i"
      },
      "outputs": [],
      "source": [
        "exoplanet.ecc =  0.0082            # eccentricity\n",
        "exoplanet.w = 43.8                 # angle of periastron (degrees)"
      ]
    },
    {
      "cell_type": "markdown",
      "metadata": {
        "id": "pjivmkPdYd3i"
      },
      "source": [
        "(7) Definimos una variable independiente para el **radio de la estrella anfitriona** en unidades de radios solares."
      ]
    },
    {
      "cell_type": "code",
      "execution_count": 30,
      "metadata": {
        "id": "ZC2Bodg7Yd3i"
      },
      "outputs": [],
      "source": [
        "r_st = 1.203                        # radius of the host star (R_sun: solar radii)"
      ]
    },
    {
      "cell_type": "markdown",
      "metadata": {
        "id": "5KN9Q3x1Yd3i"
      },
      "source": [
        "(8) Definimos una variable independiente para el **radio del planeta** en radios de Júpiter."
      ]
    },
    {
      "cell_type": "code",
      "execution_count": 31,
      "metadata": {
        "id": "lEUq-MOvYd3j"
      },
      "outputs": [],
      "source": [
        "r_pl = 1.38                         # planet radius (R_jup: Jupiter radii)"
      ]
    },
    {
      "cell_type": "markdown",
      "metadata": {
        "id": "MF5fuUtXYd3j"
      },
      "source": [
        "(9) Establecemos en exoplanet el radio del planeta en unidades de la estrella anfitriona utilizando las dos variables independientes definidas en (7) y (8).\n",
        "\n",
        "Es importante destacar que estamos utilizando la Resolución B2 2015 de la IAU para tener los valores más precisos."
      ]
    },
    {
      "cell_type": "code",
      "execution_count": 32,
      "metadata": {
        "colab": {
          "base_uri": "https://localhost:8080/"
        },
        "id": "ILbCk198Yd3j",
        "outputId": "19968038-51d1-470e-9f99-a840a7096bf8"
      },
      "outputs": [
        {
          "output_type": "stream",
          "name": "stdout",
          "text": [
            "0.11788238187053567\n"
          ]
        }
      ],
      "source": [
        "exoplanet.rp = r_pl*const.R_jup/(r_st*const.R_sun)        #Para actualizar el modelo.\n",
        "print(exoplanet.rp)"
      ]
    },
    {
      "cell_type": "markdown",
      "metadata": {
        "id": "XIT6bLWQYd3k"
      },
      "source": [
        "(10) Definimos una variable independiente para el semieje mayor de la órbita planetaria en unidades de ua (unidades astronómicas). Por ejemplo, la órbita de la Tierra tiene un semieje mayor de 1 ua y la de Júpiter de 5.2 ua.\n",
        "\n",
        "Y convertimos la variable independiente utilizando las constantes de la IAU."
      ]
    },
    {
      "cell_type": "code",
      "execution_count": 33,
      "metadata": {
        "id": "SBdVO4UPYd3l"
      },
      "outputs": [],
      "source": [
        "a_au = 0.04747                      #Semi-major axis (ua)\n",
        "a_rsun = a_au*const.au/const.R_sun  #Semi-major axis (R_sun)"
      ]
    },
    {
      "cell_type": "markdown",
      "metadata": {
        "id": "Tdw4kA4SYd3l"
      },
      "source": [
        "(11) Establecemos en exoplanet el semieje mayor en unidades del radio estelar, utilizando las variables definidas en (10)."
      ]
    },
    {
      "cell_type": "code",
      "execution_count": 34,
      "metadata": {
        "id": "Gdfk-9QNYd3l"
      },
      "outputs": [],
      "source": [
        "exoplanet.a =  a_rsun/r_st         #Semi-major axis (in host stellar radius)"
      ]
    },
    {
      "cell_type": "markdown",
      "metadata": {
        "id": "PhIw8El-Yd3l"
      },
      "source": [
        "### Para crear la curva de luz del modelo de tránsito, necesitamos:\n",
        " - El modelo basado en las propiedades físicas definidas en `exoplanet`\n",
        " - Los momentos en los que se calculará el modelo de la curva de luz\n",
        " - El flujo en la curva de luz"
      ]
    },
    {
      "cell_type": "code",
      "execution_count": 35,
      "metadata": {
        "id": "Afcwd311Yd3m"
      },
      "outputs": [],
      "source": [
        "times = np.linspace(exoplanet.t0-0.15, exoplanet.t0+0.15, 1000)  #times at which the light curve will be calculated\n",
        "\n",
        "\n",
        "model = batman.TransitModel(exoplanet, times)    # creating the model of the transit at the given times\n",
        "\n",
        "\n",
        "flux = model.light_curve(exoplanet)              # calculates the model transit light curve"
      ]
    },
    {
      "cell_type": "markdown",
      "metadata": {
        "id": "TvVwLzzGYd3m"
      },
      "source": [
        "### Para crear un gráfico de la curva de luz del tránsito y guardar la figura:"
      ]
    },
    {
      "cell_type": "code",
      "execution_count": 36,
      "metadata": {
        "colab": {
          "base_uri": "https://localhost:8080/",
          "height": 532
        },
        "id": "EfdZ5lIKYd3m",
        "outputId": "ef63d0d6-9d13-4622-ee6d-55913c320d0a"
      },
      "outputs": [
        {
          "output_type": "display_data",
          "data": {
            "text/plain": [
              "<Figure size 800x560 with 1 Axes>"
            ],
            "image/png": "[encoded data removed]"
          },
          "metadata": {}
        }
      ],
      "source": [
        "plt.figure(figsize=(10,7), dpi=80)              # Set the size and resolution of the graph\n",
        "\n",
        "plt.plot(times, flux, color = \"purple\", linewidth =5)       # Make the plot\n",
        "\n",
        "plt.title('Example: HD 209458 b', fontsize=18)  # Set the title of the graph\n",
        "plt.xlabel(\"Time from mid-transit (days)\",fontsize=18)           # Set the title and font size of x-axis title\n",
        "plt.ylabel(\"Relative flux\",fontsize=18)         # Set the title and font size of y-axis title\n",
        "plt.xticks(fontsize=14)                         # Set the font size of the numbers in the x-axis\n",
        "plt.yticks(fontsize=14)                         # Set the font size of the numbers in the y-axis\n",
        "\n",
        "#plt.show()                                      # Show the graph in this notebook\n",
        "\n",
        "plt.savefig(f'{route}/hd209548_transit.pdf')            # Save the image as a pdf"
      ]
    },
    {
      "cell_type": "markdown",
      "metadata": {
        "id": "ph6bUAKCYd3m"
      },
      "source": [
        "### Para guardar la curva de luz del modelo de tránsito como un archivo de texto:"
      ]
    },
    {
      "cell_type": "code",
      "execution_count": 40,
      "metadata": {
        "id": "hS9VB6EbYd3m"
      },
      "outputs": [],
      "source": [
        "filename = f'{route}/d209458_lc.txt'             # define name to save file to, it may include a full path"
      ]
    },
    {
      "cell_type": "code",
      "execution_count": 41,
      "metadata": {
        "id": "OrGmX0OYYd3n"
      },
      "outputs": [],
      "source": [
        "np.savetxt(filename,np.vstack((times,flux)).T,fmt=\"%.8f,%.4f\")"
      ]
    },
    {
      "cell_type": "markdown",
      "metadata": {
        "id": "ACzEsm4iYd3n"
      },
      "source": [
        "### Para leer la curva de luz del modelo desde un archivo de texto y cargarla en una variable numpy:"
      ]
    },
    {
      "cell_type": "code",
      "execution_count": 44,
      "metadata": {
        "id": "Z4_tk2HhYd3n"
      },
      "outputs": [],
      "source": [
        "file = open(f\"{route}/d209458_lc.txt\")       #Open the file with the saved model light curve\n",
        "\n",
        "\n",
        "times_1 = []                         #Array where the times of the light curve will be\n",
        "flux_1 = []                          #Array where the fluxes of the light curve will be\n",
        "\n",
        "for line in file:                   #This loop reads every line and assigns a value to each array.\n",
        "    x,y = line.split(',')\n",
        "    times_1 += [float(x)]\n",
        "    flux_1 += [float(y)]\n",
        "\n",
        "file.close()"
      ]
    },
    {
      "cell_type": "markdown",
      "metadata": {
        "id": "VY937zaRYd3n"
      },
      "source": [
        "## Has llegado al final de este Cuaderno de Jupyter y deberías tener todas las herramientas que necesitas para el resto del laboratorio."
      ]
    },
    {
      "cell_type": "code",
      "execution_count": 39,
      "metadata": {
        "id": "n0Le_gQAYd3n"
      },
      "outputs": [],
      "source": []
    }
  ],
  "metadata": {
    "kernelspec": {
      "display_name": "Python 3 (ipykernel)",
      "language": "python",
      "name": "python3"
    },
    "language_info": {
      "codemirror_mode": {
        "name": "ipython",
        "version": 3
      },
      "file_extension": ".py",
      "mimetype": "text/x-python",
      "name": "python",
      "nbconvert_exporter": "python",
      "pygments_lexer": "ipython3",
      "version": "3.9.13"
    },
    "colab": {
      "provenance": []
    }
  },
  "nbformat": 4,
  "nbformat_minor": 0
}